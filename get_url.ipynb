{
 "cells": [
  {
   "cell_type": "code",
   "execution_count": 7,
   "metadata": {},
   "outputs": [],
   "source": [
    "from bs4 import BeautifulSoup\n",
    "from selenium import webdriver\n",
    "from selenium.webdriver.common.keys import Keys\n",
    "from selenium.webdriver import ActionChains\n",
    "from tqdm import tqdm\n",
    "import pandas as pd\n",
    "import time\n",
    "\n",
    "import datetime"
   ]
  },
  {
   "cell_type": "code",
   "execution_count": 16,
   "metadata": {},
   "outputs": [],
   "source": [
    "def yogiyo_crawling(location, food_category):\n",
    "    address = location\n",
    "    name = location.split(\" \")[1]\n",
    "    list_url = \"https://www.yogiyo.co.kr/mobile/#/\"\n",
    "    urls = []\n",
    "    df = pd.DataFrame(columns=['url', '개수충족'])\n",
    "\n",
    "    #### 주소 기준으로 초기화\n",
    "    driver = webdriver.Chrome('/Users/jijoonghong/Downloads/chromedriver')\n",
    "\n",
    "    driver.get(list_url)\n",
    "    time.sleep(8)\n",
    "    element = driver.find_element_by_name(\"address_input\")\n",
    "    element.clear()\n",
    "    element.send_keys(address)\n",
    "    btn = driver.find_element_by_css_selector(\"#button_search_address > button.btn.btn-default.ico-pick\")\n",
    "    btn.click()\n",
    "    time.sleep(2)\n",
    "    \n",
    "    # 리뷰 많은 순으로 sorting\n",
    "    driver.find_element_by_xpath('//*[@id=\"content\"]/div/div[1]/div[2]/div/select').click()\n",
    "    driver.find_element_by_xpath('//*[@id=\"content\"]/div/div[1]/div[2]/div/select/option[3]').click()\n",
    "    driver.find_element_by_xpath('//*[@id=\"content\"]/div/div[1]/div[2]/div/select').click()\n",
    "    time.sleep(3)\n",
    "    \n",
    "    # 카테고리 접속 및 가게 리스트 \n",
    "    driver.get(list_url + food_category)\n",
    "    \n",
    "    last_height = driver.execute_script(\"return document.body.scrollHeight\")\n",
    "    # print(last_height)\n",
    "\n",
    "    while True:\n",
    "\n",
    "        scroll_down = 0\n",
    "        while scroll_down < 10:\n",
    "            element.send_keys(Keys.PAGE_DOWN)\n",
    "            time.sleep(0.2)\n",
    "            scroll_down += 1\n",
    "\n",
    "        new_height = driver.execute_script(\"return document.body.scrollHeight\")\n",
    "        # print(\"new\"+str(new_height))\n",
    "        if new_height == last_height:\n",
    "            print(\"끝\")\n",
    "            break\n",
    "\n",
    "        last_height = new_height\n",
    "\n",
    "    # height = driver.find_elements_by_css_selector('#content > div > div:nth-child(4) > div > div.restaurant-list')\n",
    "    \n",
    "    store_list = driver.find_elements_by_xpath(\"//div[@class='item clearfix']\")\n",
    "\n",
    "    for i in tqdm(range(1, len(store_list) + 1)):\n",
    "        time.sleep(3)\n",
    "        is_valid = 1\n",
    "        path = '//*[@id=\"content\"]/div/div[5]/div/div/div[' + str(i) + ']/div'\n",
    "\n",
    "        if i <= 60:\n",
    "            # id가 something 인 element 를 찾음\n",
    "            try:\n",
    "                n = driver.find_element_by_css_selector(\n",
    "                    \"#content > div > div:nth-child(5) > div > div > div:nth-child(\" + str(\n",
    "                        i) + \") > div > table > tbody > tr > td:nth-child(2) > div > div.stars > span:nth-child(2)\").text\n",
    "                if n == \"\" or int(n.split(\" \")[1]) < 10:\n",
    "                    is_valid = 0\n",
    "                some_tag = driver.find_element_by_xpath(path)\n",
    "            except:\n",
    "                time.sleep(5)\n",
    "                n = driver.find_element_by_css_selector(\n",
    "                    \"#content > div > div:nth-child(5) > div > div > div:nth-child(\" + str(\n",
    "                        i) + \") > div > table > tbody > tr > td:nth-child(2) > div > div.stars > span:nth-child(2)\").text\n",
    "                if n == \"\" or int(n.split(\" \")[1]) < 10:\n",
    "                    is_valid = 0\n",
    "                some_tag = driver.find_element_by_xpath(path)\n",
    "\n",
    "        else:\n",
    "            try:\n",
    "                n = driver.find_element_by_css_selector(\n",
    "                    \"#content > div > div:nth-child(5) > div > div > div:nth-child(\" + str(\n",
    "                        i) + \") > div > table > tbody > tr > td:nth-child(2) > div > div.stars > span:nth-child(2)\").text\n",
    "            except:\n",
    "                for j in range(int(i // 60)):\n",
    "                    driver.execute_script(\"window.scrollTo(0, document.body.scrollHeight);\")\n",
    "                    time.sleep(int(i // 60)*2)\n",
    "                # id가 something 인 element 를 찾음\n",
    "\n",
    "            try:\n",
    "                # 리뷰 10개 이하면 pass\n",
    "                n = driver.find_element_by_css_selector(\n",
    "                    \"#content > div > div:nth-child(5) > div > div > div:nth-child(\" + str(\n",
    "                        i) + \") > div > table > tbody > tr > td:nth-child(2) > div > div.stars > span:nth-child(2)\").text\n",
    "                store_name = driver.find_element_by_xpath('//*[@id=\"content\"]/div/div[5]/div/div/div['+str(i)+']/div/table/tbody/tr/td[2]/div/div[1]').text\n",
    "                some_tag = driver.find_element_by_xpath(path)\n",
    "\n",
    "            except:\n",
    "                time.sleep(10)\n",
    "                driver.execute_script(\"window.scrollTo(0, document.body.scrollHeight);\")\n",
    "                n = driver.find_element_by_css_selector(\n",
    "                    \"#content > div > div:nth-child(5) > div > div > div:nth-child(\" + str(\n",
    "                        i) + \") > div > table > tbody > tr > td:nth-child(2) > div > div.stars > span:nth-child(2)\").text\n",
    "                store_name = driver.find_element_by_xpath('//*[@id=\"content\"]/div/div[5]/div/div/div['+str(i)+']/div/table/tbody/tr/td[2]/div/div[1]').text\n",
    "                some_tag = driver.find_element_by_xpath(path)\n",
    "\n",
    "            if n == \"\" or int(n.split(\" \")[1]) < 10:\n",
    "                is_valid = 0\n",
    "\n",
    "\n",
    "        # somthing element 까지 스크롤\n",
    "        action = ActionChains(driver)\n",
    "        action.move_to_element(some_tag).perform()\n",
    "        driver.find_element_by_xpath(path).click()\n",
    "        time.sleep(int(i // 60))\n",
    "        \n",
    "        \n",
    "        row = pd.DataFrame([(driver.current_url, is_valid)],columns=['url', '개수충족'])\n",
    "        print(row)\n",
    "        df = df.append(row)\n",
    "        \n",
    "        driver.back()\n",
    "        \n",
    "    df.to_csv(\"./\"+location.split(\" \")[1]+\"_\"+food_category+\"_url_list.csv\", encoding='utf-8-sig')\n",
    "\n"
   ]
  },
  {
   "cell_type": "code",
   "execution_count": 17,
   "metadata": {},
   "outputs": [
    {
     "name": "stdout",
     "output_type": "stream",
     "text": [
      "끝\n"
     ]
    },
    {
     "name": "stderr",
     "output_type": "stream",
     "text": [
      "  1%|          | 1/105 [00:03<06:22,  3.68s/it]"
     ]
    },
    {
     "name": "stdout",
     "output_type": "stream",
     "text": [
      "                                        url  개수충족\n",
      "0  https://www.yogiyo.co.kr/mobile/#/12105/     1\n",
      "                                        url  개수충족\n",
      "0  https://www.yogiyo.co.kr/mobile/#/52695/     1\n"
     ]
    },
    {
     "name": "stderr",
     "output_type": "stream",
     "text": [
      "  3%|▎         | 3/105 [00:10<06:10,  3.63s/it]"
     ]
    },
    {
     "name": "stdout",
     "output_type": "stream",
     "text": [
      "                                        url  개수충족\n",
      "0  https://www.yogiyo.co.kr/mobile/#/12107/     1\n"
     ]
    },
    {
     "name": "stderr",
     "output_type": "stream",
     "text": [
      "\r",
      "  4%|▍         | 4/105 [00:14<06:02,  3.59s/it]"
     ]
    },
    {
     "name": "stdout",
     "output_type": "stream",
     "text": [
      "                                         url  개수충족\n",
      "0  https://www.yogiyo.co.kr/mobile/#/218852/     1\n"
     ]
    },
    {
     "name": "stderr",
     "output_type": "stream",
     "text": [
      "\r",
      "  5%|▍         | 5/105 [00:18<06:00,  3.61s/it]"
     ]
    },
    {
     "name": "stdout",
     "output_type": "stream",
     "text": [
      "                                         url  개수충족\n",
      "0  https://www.yogiyo.co.kr/mobile/#/297009/     1\n"
     ]
    },
    {
     "name": "stderr",
     "output_type": "stream",
     "text": [
      "\r",
      "  6%|▌         | 6/105 [00:21<05:54,  3.58s/it]"
     ]
    },
    {
     "name": "stdout",
     "output_type": "stream",
     "text": [
      "                                        url  개수충족\n",
      "0  https://www.yogiyo.co.kr/mobile/#/12104/     1\n"
     ]
    },
    {
     "name": "stderr",
     "output_type": "stream",
     "text": [
      "\r",
      "  7%|▋         | 7/105 [00:25<05:49,  3.56s/it]"
     ]
    },
    {
     "name": "stdout",
     "output_type": "stream",
     "text": [
      "                                         url  개수충족\n",
      "0  https://www.yogiyo.co.kr/mobile/#/276913/     1\n"
     ]
    },
    {
     "name": "stderr",
     "output_type": "stream",
     "text": [
      "\r",
      "  8%|▊         | 8/105 [00:28<05:43,  3.54s/it]"
     ]
    },
    {
     "name": "stdout",
     "output_type": "stream",
     "text": [
      "                                         url  개수충족\n",
      "0  https://www.yogiyo.co.kr/mobile/#/579571/     0\n"
     ]
    },
    {
     "name": "stderr",
     "output_type": "stream",
     "text": [
      "\r",
      "  9%|▊         | 9/105 [00:32<05:38,  3.53s/it]"
     ]
    },
    {
     "name": "stdout",
     "output_type": "stream",
     "text": [
      "                                         url  개수충족\n",
      "0  https://www.yogiyo.co.kr/mobile/#/510693/     0\n"
     ]
    },
    {
     "name": "stderr",
     "output_type": "stream",
     "text": [
      "\r",
      " 10%|▉         | 10/105 [00:35<05:33,  3.51s/it]"
     ]
    },
    {
     "name": "stdout",
     "output_type": "stream",
     "text": [
      "                                         url  개수충족\n",
      "0  https://www.yogiyo.co.kr/mobile/#/309688/     1\n"
     ]
    },
    {
     "name": "stderr",
     "output_type": "stream",
     "text": [
      "\r",
      " 10%|█         | 11/105 [00:39<05:29,  3.51s/it]"
     ]
    },
    {
     "name": "stdout",
     "output_type": "stream",
     "text": [
      "                                         url  개수충족\n",
      "0  https://www.yogiyo.co.kr/mobile/#/366897/     1\n"
     ]
    },
    {
     "name": "stderr",
     "output_type": "stream",
     "text": [
      "\r",
      " 11%|█▏        | 12/105 [00:42<05:27,  3.52s/it]"
     ]
    },
    {
     "name": "stdout",
     "output_type": "stream",
     "text": [
      "                                         url  개수충족\n",
      "0  https://www.yogiyo.co.kr/mobile/#/272409/     1\n"
     ]
    },
    {
     "name": "stderr",
     "output_type": "stream",
     "text": [
      "\r",
      " 12%|█▏        | 13/105 [00:46<05:22,  3.51s/it]"
     ]
    },
    {
     "name": "stdout",
     "output_type": "stream",
     "text": [
      "                                        url  개수충족\n",
      "0  https://www.yogiyo.co.kr/mobile/#/41914/     1\n"
     ]
    },
    {
     "name": "stderr",
     "output_type": "stream",
     "text": [
      "\r",
      " 13%|█▎        | 14/105 [00:49<05:20,  3.52s/it]"
     ]
    },
    {
     "name": "stdout",
     "output_type": "stream",
     "text": [
      "                                         url  개수충족\n",
      "0  https://www.yogiyo.co.kr/mobile/#/487382/     1\n"
     ]
    },
    {
     "name": "stderr",
     "output_type": "stream",
     "text": [
      "\r",
      " 14%|█▍        | 15/105 [00:53<05:17,  3.52s/it]"
     ]
    },
    {
     "name": "stdout",
     "output_type": "stream",
     "text": [
      "                                         url  개수충족\n",
      "0  https://www.yogiyo.co.kr/mobile/#/214630/     1\n"
     ]
    },
    {
     "name": "stderr",
     "output_type": "stream",
     "text": [
      "\r",
      " 15%|█▌        | 16/105 [00:56<05:12,  3.51s/it]"
     ]
    },
    {
     "name": "stdout",
     "output_type": "stream",
     "text": [
      "                                         url  개수충족\n",
      "0  https://www.yogiyo.co.kr/mobile/#/374623/     1\n"
     ]
    },
    {
     "name": "stderr",
     "output_type": "stream",
     "text": [
      "\r",
      " 16%|█▌        | 17/105 [01:00<05:09,  3.51s/it]"
     ]
    },
    {
     "name": "stdout",
     "output_type": "stream",
     "text": [
      "                                         url  개수충족\n",
      "0  https://www.yogiyo.co.kr/mobile/#/407596/     1\n"
     ]
    },
    {
     "name": "stderr",
     "output_type": "stream",
     "text": [
      "\r",
      " 17%|█▋        | 18/105 [01:03<05:06,  3.53s/it]"
     ]
    },
    {
     "name": "stdout",
     "output_type": "stream",
     "text": [
      "                                         url  개수충족\n",
      "0  https://www.yogiyo.co.kr/mobile/#/430834/     1\n"
     ]
    },
    {
     "name": "stderr",
     "output_type": "stream",
     "text": [
      "\r",
      " 18%|█▊        | 19/105 [01:07<05:01,  3.51s/it]"
     ]
    },
    {
     "name": "stdout",
     "output_type": "stream",
     "text": [
      "                                         url  개수충족\n",
      "0  https://www.yogiyo.co.kr/mobile/#/340966/     1\n"
     ]
    },
    {
     "name": "stderr",
     "output_type": "stream",
     "text": [
      "\r",
      " 19%|█▉        | 20/105 [01:11<05:07,  3.61s/it]"
     ]
    },
    {
     "name": "stdout",
     "output_type": "stream",
     "text": [
      "                                         url  개수충족\n",
      "0  https://www.yogiyo.co.kr/mobile/#/359176/     1\n"
     ]
    },
    {
     "name": "stderr",
     "output_type": "stream",
     "text": [
      "\r",
      " 20%|██        | 21/105 [01:14<05:07,  3.66s/it]"
     ]
    },
    {
     "name": "stdout",
     "output_type": "stream",
     "text": [
      "                                         url  개수충족\n",
      "0  https://www.yogiyo.co.kr/mobile/#/311830/     1\n"
     ]
    },
    {
     "name": "stderr",
     "output_type": "stream",
     "text": [
      "\r",
      " 21%|██        | 22/105 [01:18<04:59,  3.61s/it]"
     ]
    },
    {
     "name": "stdout",
     "output_type": "stream",
     "text": [
      "                                         url  개수충족\n",
      "0  https://www.yogiyo.co.kr/mobile/#/330239/     1\n"
     ]
    },
    {
     "name": "stderr",
     "output_type": "stream",
     "text": [
      "\r",
      " 22%|██▏       | 23/105 [01:21<04:53,  3.58s/it]"
     ]
    },
    {
     "name": "stdout",
     "output_type": "stream",
     "text": [
      "                                         url  개수충족\n",
      "0  https://www.yogiyo.co.kr/mobile/#/263724/     1\n"
     ]
    },
    {
     "name": "stderr",
     "output_type": "stream",
     "text": [
      "\r",
      " 23%|██▎       | 24/105 [01:25<04:48,  3.56s/it]"
     ]
    },
    {
     "name": "stdout",
     "output_type": "stream",
     "text": [
      "                                         url  개수충족\n",
      "0  https://www.yogiyo.co.kr/mobile/#/254583/     1\n"
     ]
    },
    {
     "name": "stderr",
     "output_type": "stream",
     "text": [
      "\r",
      " 24%|██▍       | 25/105 [01:28<04:44,  3.56s/it]"
     ]
    },
    {
     "name": "stdout",
     "output_type": "stream",
     "text": [
      "                                         url  개수충족\n",
      "0  https://www.yogiyo.co.kr/mobile/#/422957/     1\n"
     ]
    },
    {
     "name": "stderr",
     "output_type": "stream",
     "text": [
      "\r",
      " 25%|██▍       | 26/105 [01:32<04:39,  3.54s/it]"
     ]
    },
    {
     "name": "stdout",
     "output_type": "stream",
     "text": [
      "                                       url  개수충족\n",
      "0  https://www.yogiyo.co.kr/mobile/#/4225/     1\n"
     ]
    },
    {
     "name": "stderr",
     "output_type": "stream",
     "text": [
      "\r",
      " 26%|██▌       | 27/105 [01:36<04:35,  3.54s/it]"
     ]
    },
    {
     "name": "stdout",
     "output_type": "stream",
     "text": [
      "                                        url  개수충족\n",
      "0  https://www.yogiyo.co.kr/mobile/#/32773/     1\n"
     ]
    },
    {
     "name": "stderr",
     "output_type": "stream",
     "text": [
      "\r",
      " 27%|██▋       | 28/105 [01:39<04:30,  3.52s/it]"
     ]
    },
    {
     "name": "stdout",
     "output_type": "stream",
     "text": [
      "                                         url  개수충족\n",
      "0  https://www.yogiyo.co.kr/mobile/#/426187/     1\n"
     ]
    },
    {
     "name": "stderr",
     "output_type": "stream",
     "text": [
      "\r",
      " 28%|██▊       | 29/105 [01:42<04:26,  3.51s/it]"
     ]
    },
    {
     "name": "stdout",
     "output_type": "stream",
     "text": [
      "                                         url  개수충족\n",
      "0  https://www.yogiyo.co.kr/mobile/#/249914/     1\n"
     ]
    },
    {
     "name": "stderr",
     "output_type": "stream",
     "text": [
      "\r",
      " 29%|██▊       | 30/105 [01:46<04:22,  3.50s/it]"
     ]
    },
    {
     "name": "stdout",
     "output_type": "stream",
     "text": [
      "                                         url  개수충족\n",
      "0  https://www.yogiyo.co.kr/mobile/#/513310/     1\n"
     ]
    },
    {
     "name": "stderr",
     "output_type": "stream",
     "text": [
      "\r",
      " 30%|██▉       | 31/105 [01:49<04:18,  3.50s/it]"
     ]
    },
    {
     "name": "stdout",
     "output_type": "stream",
     "text": [
      "                                         url  개수충족\n",
      "0  https://www.yogiyo.co.kr/mobile/#/245933/     1\n"
     ]
    },
    {
     "name": "stderr",
     "output_type": "stream",
     "text": [
      "\r",
      " 30%|███       | 32/105 [01:53<04:15,  3.50s/it]"
     ]
    },
    {
     "name": "stdout",
     "output_type": "stream",
     "text": [
      "                                         url  개수충족\n",
      "0  https://www.yogiyo.co.kr/mobile/#/245931/     1\n"
     ]
    },
    {
     "name": "stderr",
     "output_type": "stream",
     "text": [
      "\r",
      " 31%|███▏      | 33/105 [01:56<04:11,  3.49s/it]"
     ]
    },
    {
     "name": "stdout",
     "output_type": "stream",
     "text": [
      "                                         url  개수충족\n",
      "0  https://www.yogiyo.co.kr/mobile/#/345184/     1\n"
     ]
    },
    {
     "name": "stderr",
     "output_type": "stream",
     "text": [
      "\r",
      " 32%|███▏      | 34/105 [02:00<04:08,  3.50s/it]"
     ]
    },
    {
     "name": "stdout",
     "output_type": "stream",
     "text": [
      "                                        url  개수충족\n",
      "0  https://www.yogiyo.co.kr/mobile/#/26337/     1\n"
     ]
    },
    {
     "name": "stderr",
     "output_type": "stream",
     "text": [
      "\r",
      " 33%|███▎      | 35/105 [02:03<04:05,  3.50s/it]"
     ]
    },
    {
     "name": "stdout",
     "output_type": "stream",
     "text": [
      "                                         url  개수충족\n",
      "0  https://www.yogiyo.co.kr/mobile/#/336831/     1\n"
     ]
    },
    {
     "name": "stderr",
     "output_type": "stream",
     "text": [
      "\r",
      " 34%|███▍      | 36/105 [02:07<04:01,  3.50s/it]"
     ]
    },
    {
     "name": "stdout",
     "output_type": "stream",
     "text": [
      "                                         url  개수충족\n",
      "0  https://www.yogiyo.co.kr/mobile/#/214940/     1\n"
     ]
    },
    {
     "name": "stderr",
     "output_type": "stream",
     "text": [
      "\r",
      " 35%|███▌      | 37/105 [02:10<03:57,  3.50s/it]"
     ]
    },
    {
     "name": "stdout",
     "output_type": "stream",
     "text": [
      "                                         url  개수충족\n",
      "0  https://www.yogiyo.co.kr/mobile/#/407599/     1\n"
     ]
    },
    {
     "name": "stderr",
     "output_type": "stream",
     "text": [
      "\r",
      " 36%|███▌      | 38/105 [02:14<03:54,  3.50s/it]"
     ]
    },
    {
     "name": "stdout",
     "output_type": "stream",
     "text": [
      "                                         url  개수충족\n",
      "0  https://www.yogiyo.co.kr/mobile/#/430855/     1\n"
     ]
    },
    {
     "name": "stderr",
     "output_type": "stream",
     "text": [
      "\r",
      " 37%|███▋      | 39/105 [02:17<03:50,  3.50s/it]"
     ]
    },
    {
     "name": "stdout",
     "output_type": "stream",
     "text": [
      "                                        url  개수충족\n",
      "0  https://www.yogiyo.co.kr/mobile/#/57894/     1\n"
     ]
    },
    {
     "name": "stderr",
     "output_type": "stream",
     "text": [
      "\r",
      " 38%|███▊      | 40/105 [02:21<03:47,  3.50s/it]"
     ]
    },
    {
     "name": "stdout",
     "output_type": "stream",
     "text": [
      "                                         url  개수충족\n",
      "0  https://www.yogiyo.co.kr/mobile/#/298811/     1\n"
     ]
    },
    {
     "name": "stderr",
     "output_type": "stream",
     "text": [
      "\r",
      " 39%|███▉      | 41/105 [02:25<03:47,  3.55s/it]"
     ]
    },
    {
     "name": "stdout",
     "output_type": "stream",
     "text": [
      "                                         url  개수충족\n",
      "0  https://www.yogiyo.co.kr/mobile/#/351320/     1\n"
     ]
    },
    {
     "name": "stderr",
     "output_type": "stream",
     "text": [
      "\r",
      " 40%|████      | 42/105 [02:28<03:42,  3.54s/it]"
     ]
    },
    {
     "name": "stdout",
     "output_type": "stream",
     "text": [
      "                                         url  개수충족\n",
      "0  https://www.yogiyo.co.kr/mobile/#/435841/     1\n"
     ]
    },
    {
     "name": "stderr",
     "output_type": "stream",
     "text": [
      "\r",
      " 41%|████      | 43/105 [02:32<03:38,  3.52s/it]"
     ]
    },
    {
     "name": "stdout",
     "output_type": "stream",
     "text": [
      "                                         url  개수충족\n",
      "0  https://www.yogiyo.co.kr/mobile/#/351319/     1\n"
     ]
    },
    {
     "name": "stderr",
     "output_type": "stream",
     "text": [
      "\r",
      " 42%|████▏     | 44/105 [02:35<03:34,  3.52s/it]"
     ]
    },
    {
     "name": "stdout",
     "output_type": "stream",
     "text": [
      "                                         url  개수충족\n",
      "0  https://www.yogiyo.co.kr/mobile/#/322058/     1\n"
     ]
    },
    {
     "name": "stderr",
     "output_type": "stream",
     "text": [
      "\r",
      " 43%|████▎     | 45/105 [02:39<03:30,  3.51s/it]"
     ]
    },
    {
     "name": "stdout",
     "output_type": "stream",
     "text": [
      "                                         url  개수충족\n",
      "0  https://www.yogiyo.co.kr/mobile/#/459202/     1\n"
     ]
    },
    {
     "name": "stderr",
     "output_type": "stream",
     "text": [
      "\r",
      " 44%|████▍     | 46/105 [02:42<03:26,  3.50s/it]"
     ]
    },
    {
     "name": "stdout",
     "output_type": "stream",
     "text": [
      "                                         url  개수충족\n",
      "0  https://www.yogiyo.co.kr/mobile/#/277133/     1\n"
     ]
    },
    {
     "name": "stderr",
     "output_type": "stream",
     "text": [
      "\r",
      " 45%|████▍     | 47/105 [02:46<03:23,  3.52s/it]"
     ]
    },
    {
     "name": "stdout",
     "output_type": "stream",
     "text": [
      "                                         url  개수충족\n",
      "0  https://www.yogiyo.co.kr/mobile/#/445495/     1\n"
     ]
    },
    {
     "name": "stderr",
     "output_type": "stream",
     "text": [
      "\r",
      " 46%|████▌     | 48/105 [02:49<03:20,  3.52s/it]"
     ]
    },
    {
     "name": "stdout",
     "output_type": "stream",
     "text": [
      "                                         url  개수충족\n",
      "0  https://www.yogiyo.co.kr/mobile/#/396595/     1\n"
     ]
    },
    {
     "name": "stderr",
     "output_type": "stream",
     "text": [
      "\r",
      " 47%|████▋     | 49/105 [02:53<03:16,  3.51s/it]"
     ]
    },
    {
     "name": "stdout",
     "output_type": "stream",
     "text": [
      "                                         url  개수충족\n",
      "0  https://www.yogiyo.co.kr/mobile/#/380129/     1\n"
     ]
    },
    {
     "name": "stderr",
     "output_type": "stream",
     "text": [
      "\r",
      " 48%|████▊     | 50/105 [02:56<03:12,  3.50s/it]"
     ]
    },
    {
     "name": "stdout",
     "output_type": "stream",
     "text": [
      "                                         url  개수충족\n",
      "0  https://www.yogiyo.co.kr/mobile/#/564649/     1\n"
     ]
    },
    {
     "name": "stderr",
     "output_type": "stream",
     "text": [
      "\r",
      " 49%|████▊     | 51/105 [03:00<03:08,  3.50s/it]"
     ]
    },
    {
     "name": "stdout",
     "output_type": "stream",
     "text": [
      "                                         url  개수충족\n",
      "0  https://www.yogiyo.co.kr/mobile/#/304457/     1\n"
     ]
    },
    {
     "name": "stderr",
     "output_type": "stream",
     "text": [
      "\r",
      " 50%|████▉     | 52/105 [03:03<03:05,  3.49s/it]"
     ]
    },
    {
     "name": "stdout",
     "output_type": "stream",
     "text": [
      "                                         url  개수충족\n",
      "0  https://www.yogiyo.co.kr/mobile/#/469261/     1\n"
     ]
    },
    {
     "name": "stderr",
     "output_type": "stream",
     "text": [
      "\r",
      " 50%|█████     | 53/105 [03:07<03:01,  3.49s/it]"
     ]
    },
    {
     "name": "stdout",
     "output_type": "stream",
     "text": [
      "                                         url  개수충족\n",
      "0  https://www.yogiyo.co.kr/mobile/#/440390/     1\n"
     ]
    },
    {
     "name": "stderr",
     "output_type": "stream",
     "text": [
      "\r",
      " 51%|█████▏    | 54/105 [03:10<02:58,  3.50s/it]"
     ]
    },
    {
     "name": "stdout",
     "output_type": "stream",
     "text": [
      "                                         url  개수충족\n",
      "0  https://www.yogiyo.co.kr/mobile/#/538706/     1\n"
     ]
    },
    {
     "name": "stderr",
     "output_type": "stream",
     "text": [
      "\r",
      " 52%|█████▏    | 55/105 [03:14<02:54,  3.50s/it]"
     ]
    },
    {
     "name": "stdout",
     "output_type": "stream",
     "text": [
      "                                         url  개수충족\n",
      "0  https://www.yogiyo.co.kr/mobile/#/344283/     1\n"
     ]
    },
    {
     "name": "stderr",
     "output_type": "stream",
     "text": [
      "\r",
      " 53%|█████▎    | 56/105 [03:17<02:51,  3.51s/it]"
     ]
    },
    {
     "name": "stdout",
     "output_type": "stream",
     "text": [
      "                                         url  개수충족\n",
      "0  https://www.yogiyo.co.kr/mobile/#/531227/     1\n"
     ]
    },
    {
     "name": "stderr",
     "output_type": "stream",
     "text": [
      "\r",
      " 54%|█████▍    | 57/105 [03:21<02:48,  3.51s/it]"
     ]
    },
    {
     "name": "stdout",
     "output_type": "stream",
     "text": [
      "                                         url  개수충족\n",
      "0  https://www.yogiyo.co.kr/mobile/#/333107/     1\n"
     ]
    },
    {
     "name": "stderr",
     "output_type": "stream",
     "text": [
      "\r",
      " 55%|█████▌    | 58/105 [03:24<02:44,  3.50s/it]"
     ]
    },
    {
     "name": "stdout",
     "output_type": "stream",
     "text": [
      "                                         url  개수충족\n",
      "0  https://www.yogiyo.co.kr/mobile/#/416835/     1\n"
     ]
    },
    {
     "name": "stderr",
     "output_type": "stream",
     "text": [
      "\r",
      " 56%|█████▌    | 59/105 [03:28<02:40,  3.50s/it]"
     ]
    },
    {
     "name": "stdout",
     "output_type": "stream",
     "text": [
      "                                         url  개수충족\n",
      "0  https://www.yogiyo.co.kr/mobile/#/425946/     1\n"
     ]
    },
    {
     "name": "stderr",
     "output_type": "stream",
     "text": [
      "\r",
      " 57%|█████▋    | 60/105 [03:32<02:51,  3.80s/it]"
     ]
    },
    {
     "name": "stdout",
     "output_type": "stream",
     "text": [
      "                                         url  개수충족\n",
      "0  https://www.yogiyo.co.kr/mobile/#/532431/     1\n"
     ]
    },
    {
     "name": "stderr",
     "output_type": "stream",
     "text": [
      "\r",
      " 58%|█████▊    | 61/105 [03:39<03:24,  4.64s/it]"
     ]
    },
    {
     "name": "stdout",
     "output_type": "stream",
     "text": [
      "                                         url  개수충족\n",
      "0  https://www.yogiyo.co.kr/mobile/#/522219/     1\n"
     ]
    },
    {
     "name": "stderr",
     "output_type": "stream",
     "text": [
      "\r",
      " 59%|█████▉    | 62/105 [03:45<03:45,  5.24s/it]"
     ]
    },
    {
     "name": "stdout",
     "output_type": "stream",
     "text": [
      "                                         url  개수충족\n",
      "0  https://www.yogiyo.co.kr/mobile/#/340963/     1\n"
     ]
    },
    {
     "name": "stderr",
     "output_type": "stream",
     "text": [
      "\r",
      " 60%|██████    | 63/105 [03:52<03:57,  5.65s/it]"
     ]
    },
    {
     "name": "stdout",
     "output_type": "stream",
     "text": [
      "                                         url  개수충족\n",
      "0  https://www.yogiyo.co.kr/mobile/#/342487/     1\n"
     ]
    },
    {
     "name": "stderr",
     "output_type": "stream",
     "text": [
      "\r",
      " 61%|██████    | 64/105 [03:58<04:02,  5.92s/it]"
     ]
    },
    {
     "name": "stdout",
     "output_type": "stream",
     "text": [
      "                                         url  개수충족\n",
      "0  https://www.yogiyo.co.kr/mobile/#/563338/     1\n"
     ]
    },
    {
     "name": "stderr",
     "output_type": "stream",
     "text": [
      "\r",
      " 62%|██████▏   | 65/105 [04:05<04:04,  6.12s/it]"
     ]
    },
    {
     "name": "stdout",
     "output_type": "stream",
     "text": [
      "                                         url  개수충족\n",
      "0  https://www.yogiyo.co.kr/mobile/#/345298/     1\n"
     ]
    },
    {
     "name": "stderr",
     "output_type": "stream",
     "text": [
      "\r",
      " 63%|██████▎   | 66/105 [04:12<04:04,  6.26s/it]"
     ]
    },
    {
     "name": "stdout",
     "output_type": "stream",
     "text": [
      "                                         url  개수충족\n",
      "0  https://www.yogiyo.co.kr/mobile/#/411873/     1\n"
     ]
    },
    {
     "name": "stderr",
     "output_type": "stream",
     "text": [
      "\r",
      " 64%|██████▍   | 67/105 [04:18<04:01,  6.36s/it]"
     ]
    },
    {
     "name": "stdout",
     "output_type": "stream",
     "text": [
      "                                         url  개수충족\n",
      "0  https://www.yogiyo.co.kr/mobile/#/515656/     1\n"
     ]
    },
    {
     "name": "stderr",
     "output_type": "stream",
     "text": [
      "\r",
      " 65%|██████▍   | 68/105 [04:25<03:57,  6.41s/it]"
     ]
    },
    {
     "name": "stdout",
     "output_type": "stream",
     "text": [
      "                                         url  개수충족\n",
      "0  https://www.yogiyo.co.kr/mobile/#/301705/     1\n"
     ]
    },
    {
     "name": "stderr",
     "output_type": "stream",
     "text": [
      "\r",
      " 66%|██████▌   | 69/105 [04:31<03:52,  6.46s/it]"
     ]
    },
    {
     "name": "stdout",
     "output_type": "stream",
     "text": [
      "                                         url  개수충족\n",
      "0  https://www.yogiyo.co.kr/mobile/#/516630/     1\n"
     ]
    },
    {
     "name": "stderr",
     "output_type": "stream",
     "text": [
      "\r",
      " 67%|██████▋   | 70/105 [04:38<03:47,  6.50s/it]"
     ]
    },
    {
     "name": "stdout",
     "output_type": "stream",
     "text": [
      "                                         url  개수충족\n",
      "0  https://www.yogiyo.co.kr/mobile/#/363298/     1\n"
     ]
    },
    {
     "name": "stderr",
     "output_type": "stream",
     "text": [
      "\r",
      " 68%|██████▊   | 71/105 [04:45<03:41,  6.51s/it]"
     ]
    },
    {
     "name": "stdout",
     "output_type": "stream",
     "text": [
      "                                         url  개수충족\n",
      "0  https://www.yogiyo.co.kr/mobile/#/492660/     1\n"
     ]
    },
    {
     "name": "stderr",
     "output_type": "stream",
     "text": [
      "\r",
      " 69%|██████▊   | 72/105 [04:51<03:35,  6.54s/it]"
     ]
    },
    {
     "name": "stdout",
     "output_type": "stream",
     "text": [
      "                                         url  개수충족\n",
      "0  https://www.yogiyo.co.kr/mobile/#/458786/     1\n"
     ]
    },
    {
     "name": "stderr",
     "output_type": "stream",
     "text": [
      "\r",
      " 70%|██████▉   | 73/105 [04:58<03:30,  6.57s/it]"
     ]
    },
    {
     "name": "stdout",
     "output_type": "stream",
     "text": [
      "                                         url  개수충족\n",
      "0  https://www.yogiyo.co.kr/mobile/#/396594/     1\n"
     ]
    },
    {
     "name": "stderr",
     "output_type": "stream",
     "text": [
      "\r",
      " 70%|███████   | 74/105 [05:04<03:23,  6.56s/it]"
     ]
    },
    {
     "name": "stdout",
     "output_type": "stream",
     "text": [
      "                                         url  개수충족\n",
      "0  https://www.yogiyo.co.kr/mobile/#/494507/     1\n"
     ]
    },
    {
     "name": "stderr",
     "output_type": "stream",
     "text": [
      "\r",
      " 71%|███████▏  | 75/105 [05:11<03:17,  6.57s/it]"
     ]
    },
    {
     "name": "stdout",
     "output_type": "stream",
     "text": [
      "                                         url  개수충족\n",
      "0  https://www.yogiyo.co.kr/mobile/#/583693/     1\n"
     ]
    },
    {
     "name": "stderr",
     "output_type": "stream",
     "text": [
      "\r",
      " 72%|███████▏  | 76/105 [05:17<03:10,  6.56s/it]"
     ]
    },
    {
     "name": "stdout",
     "output_type": "stream",
     "text": [
      "                                         url  개수충족\n",
      "0  https://www.yogiyo.co.kr/mobile/#/282875/     1\n"
     ]
    },
    {
     "name": "stderr",
     "output_type": "stream",
     "text": [
      "\r",
      " 73%|███████▎  | 77/105 [05:24<03:03,  6.57s/it]"
     ]
    },
    {
     "name": "stdout",
     "output_type": "stream",
     "text": [
      "                                         url  개수충족\n",
      "0  https://www.yogiyo.co.kr/mobile/#/476883/     1\n"
     ]
    },
    {
     "name": "stderr",
     "output_type": "stream",
     "text": [
      "\r",
      " 74%|███████▍  | 78/105 [05:31<02:57,  6.59s/it]"
     ]
    },
    {
     "name": "stdout",
     "output_type": "stream",
     "text": [
      "                                         url  개수충족\n",
      "0  https://www.yogiyo.co.kr/mobile/#/363253/     1\n"
     ]
    },
    {
     "name": "stderr",
     "output_type": "stream",
     "text": [
      "\r",
      " 75%|███████▌  | 79/105 [05:37<02:51,  6.60s/it]"
     ]
    },
    {
     "name": "stdout",
     "output_type": "stream",
     "text": [
      "                                         url  개수충족\n",
      "0  https://www.yogiyo.co.kr/mobile/#/542349/     1\n"
     ]
    },
    {
     "name": "stderr",
     "output_type": "stream",
     "text": [
      "\r",
      " 76%|███████▌  | 80/105 [05:44<02:44,  6.59s/it]"
     ]
    },
    {
     "name": "stdout",
     "output_type": "stream",
     "text": [
      "                                         url  개수충족\n",
      "0  https://www.yogiyo.co.kr/mobile/#/411719/     1\n"
     ]
    },
    {
     "name": "stderr",
     "output_type": "stream",
     "text": [
      "\r",
      " 77%|███████▋  | 81/105 [05:50<02:37,  6.58s/it]"
     ]
    },
    {
     "name": "stdout",
     "output_type": "stream",
     "text": [
      "                                         url  개수충족\n",
      "0  https://www.yogiyo.co.kr/mobile/#/429616/     1\n"
     ]
    },
    {
     "name": "stderr",
     "output_type": "stream",
     "text": [
      "\r",
      " 78%|███████▊  | 82/105 [05:57<02:31,  6.57s/it]"
     ]
    },
    {
     "name": "stdout",
     "output_type": "stream",
     "text": [
      "                                         url  개수충족\n",
      "0  https://www.yogiyo.co.kr/mobile/#/428028/     1\n"
     ]
    },
    {
     "name": "stderr",
     "output_type": "stream",
     "text": [
      "\r",
      " 79%|███████▉  | 83/105 [06:03<02:24,  6.56s/it]"
     ]
    },
    {
     "name": "stdout",
     "output_type": "stream",
     "text": [
      "                                         url  개수충족\n",
      "0  https://www.yogiyo.co.kr/mobile/#/282881/     1\n"
     ]
    },
    {
     "name": "stderr",
     "output_type": "stream",
     "text": [
      "\r",
      " 80%|████████  | 84/105 [06:10<02:18,  6.57s/it]"
     ]
    },
    {
     "name": "stdout",
     "output_type": "stream",
     "text": [
      "                                         url  개수충족\n",
      "0  https://www.yogiyo.co.kr/mobile/#/583826/     1\n"
     ]
    },
    {
     "name": "stderr",
     "output_type": "stream",
     "text": [
      "\r",
      " 81%|████████  | 85/105 [06:17<02:11,  6.57s/it]"
     ]
    },
    {
     "name": "stdout",
     "output_type": "stream",
     "text": [
      "                                         url  개수충족\n",
      "0  https://www.yogiyo.co.kr/mobile/#/380153/     1\n"
     ]
    },
    {
     "name": "stderr",
     "output_type": "stream",
     "text": [
      "\r",
      " 82%|████████▏ | 86/105 [06:23<02:04,  6.56s/it]"
     ]
    },
    {
     "name": "stdout",
     "output_type": "stream",
     "text": [
      "                                         url  개수충족\n",
      "0  https://www.yogiyo.co.kr/mobile/#/385826/     1\n"
     ]
    },
    {
     "name": "stderr",
     "output_type": "stream",
     "text": [
      "\r",
      " 83%|████████▎ | 87/105 [06:30<01:58,  6.56s/it]"
     ]
    },
    {
     "name": "stdout",
     "output_type": "stream",
     "text": [
      "                                         url  개수충족\n",
      "0  https://www.yogiyo.co.kr/mobile/#/362102/     1\n"
     ]
    },
    {
     "name": "stderr",
     "output_type": "stream",
     "text": [
      "\r",
      " 84%|████████▍ | 88/105 [06:36<01:51,  6.56s/it]"
     ]
    },
    {
     "name": "stdout",
     "output_type": "stream",
     "text": [
      "                                         url  개수충족\n",
      "0  https://www.yogiyo.co.kr/mobile/#/349701/     1\n"
     ]
    },
    {
     "name": "stderr",
     "output_type": "stream",
     "text": [
      "\r",
      " 85%|████████▍ | 89/105 [06:43<01:47,  6.71s/it]"
     ]
    },
    {
     "name": "stdout",
     "output_type": "stream",
     "text": [
      "                                         url  개수충족\n",
      "0  https://www.yogiyo.co.kr/mobile/#/284782/     0\n"
     ]
    },
    {
     "name": "stderr",
     "output_type": "stream",
     "text": [
      "\r",
      " 86%|████████▌ | 90/105 [06:50<01:40,  6.70s/it]"
     ]
    },
    {
     "name": "stdout",
     "output_type": "stream",
     "text": [
      "                                         url  개수충족\n",
      "0  https://www.yogiyo.co.kr/mobile/#/518049/     0\n"
     ]
    },
    {
     "name": "stderr",
     "output_type": "stream",
     "text": [
      "\r",
      " 87%|████████▋ | 91/105 [06:57<01:33,  6.69s/it]"
     ]
    },
    {
     "name": "stdout",
     "output_type": "stream",
     "text": [
      "                                         url  개수충족\n",
      "0  https://www.yogiyo.co.kr/mobile/#/510054/     0\n"
     ]
    },
    {
     "name": "stderr",
     "output_type": "stream",
     "text": [
      "\r",
      " 88%|████████▊ | 92/105 [07:03<01:26,  6.65s/it]"
     ]
    },
    {
     "name": "stdout",
     "output_type": "stream",
     "text": [
      "                                         url  개수충족\n",
      "0  https://www.yogiyo.co.kr/mobile/#/409284/     0\n"
     ]
    },
    {
     "name": "stderr",
     "output_type": "stream",
     "text": [
      "\r",
      " 89%|████████▊ | 93/105 [07:10<01:19,  6.62s/it]"
     ]
    },
    {
     "name": "stdout",
     "output_type": "stream",
     "text": [
      "                                         url  개수충족\n",
      "0  https://www.yogiyo.co.kr/mobile/#/485329/     0\n"
     ]
    },
    {
     "name": "stderr",
     "output_type": "stream",
     "text": [
      "\r",
      " 90%|████████▉ | 94/105 [07:16<01:12,  6.61s/it]"
     ]
    },
    {
     "name": "stdout",
     "output_type": "stream",
     "text": [
      "                                         url  개수충족\n",
      "0  https://www.yogiyo.co.kr/mobile/#/522233/     0\n"
     ]
    },
    {
     "name": "stderr",
     "output_type": "stream",
     "text": [
      "\r",
      " 90%|█████████ | 95/105 [07:23<01:05,  6.60s/it]"
     ]
    },
    {
     "name": "stdout",
     "output_type": "stream",
     "text": [
      "                                         url  개수충족\n",
      "0  https://www.yogiyo.co.kr/mobile/#/558748/     0\n"
     ]
    },
    {
     "name": "stderr",
     "output_type": "stream",
     "text": [
      "\r",
      " 91%|█████████▏| 96/105 [07:30<00:59,  6.60s/it]"
     ]
    },
    {
     "name": "stdout",
     "output_type": "stream",
     "text": [
      "                                         url  개수충족\n",
      "0  https://www.yogiyo.co.kr/mobile/#/411722/     0\n"
     ]
    },
    {
     "name": "stderr",
     "output_type": "stream",
     "text": [
      "\r",
      " 92%|█████████▏| 97/105 [07:36<00:52,  6.58s/it]"
     ]
    },
    {
     "name": "stdout",
     "output_type": "stream",
     "text": [
      "                                         url  개수충족\n",
      "0  https://www.yogiyo.co.kr/mobile/#/382869/     0\n"
     ]
    },
    {
     "name": "stderr",
     "output_type": "stream",
     "text": [
      "\r",
      " 93%|█████████▎| 98/105 [07:43<00:46,  6.58s/it]"
     ]
    },
    {
     "name": "stdout",
     "output_type": "stream",
     "text": [
      "                                         url  개수충족\n",
      "0  https://www.yogiyo.co.kr/mobile/#/413868/     0\n"
     ]
    },
    {
     "name": "stderr",
     "output_type": "stream",
     "text": [
      "\r",
      " 94%|█████████▍| 99/105 [07:49<00:39,  6.57s/it]"
     ]
    },
    {
     "name": "stdout",
     "output_type": "stream",
     "text": [
      "                                         url  개수충족\n",
      "0  https://www.yogiyo.co.kr/mobile/#/363079/     0\n"
     ]
    },
    {
     "name": "stderr",
     "output_type": "stream",
     "text": [
      "\r",
      " 95%|█████████▌| 100/105 [07:56<00:33,  6.67s/it]"
     ]
    },
    {
     "name": "stdout",
     "output_type": "stream",
     "text": [
      "                                         url  개수충족\n",
      "0  https://www.yogiyo.co.kr/mobile/#/557154/     0\n"
     ]
    },
    {
     "name": "stderr",
     "output_type": "stream",
     "text": [
      "\r",
      " 96%|█████████▌| 101/105 [08:03<00:26,  6.67s/it]"
     ]
    },
    {
     "name": "stdout",
     "output_type": "stream",
     "text": [
      "                                         url  개수충족\n",
      "0  https://www.yogiyo.co.kr/mobile/#/542854/     0\n"
     ]
    },
    {
     "name": "stderr",
     "output_type": "stream",
     "text": [
      "\r",
      " 97%|█████████▋| 102/105 [08:09<00:19,  6.64s/it]"
     ]
    },
    {
     "name": "stdout",
     "output_type": "stream",
     "text": [
      "                                         url  개수충족\n",
      "0  https://www.yogiyo.co.kr/mobile/#/572493/     0\n"
     ]
    },
    {
     "name": "stderr",
     "output_type": "stream",
     "text": [
      "\r",
      " 98%|█████████▊| 103/105 [08:16<00:13,  6.61s/it]"
     ]
    },
    {
     "name": "stdout",
     "output_type": "stream",
     "text": [
      "                                         url  개수충족\n",
      "0  https://www.yogiyo.co.kr/mobile/#/411782/     0\n"
     ]
    },
    {
     "name": "stderr",
     "output_type": "stream",
     "text": [
      "\r",
      " 99%|█████████▉| 104/105 [08:22<00:06,  6.59s/it]"
     ]
    },
    {
     "name": "stdout",
     "output_type": "stream",
     "text": [
      "                                         url  개수충족\n",
      "0  https://www.yogiyo.co.kr/mobile/#/363187/     0\n"
     ]
    },
    {
     "name": "stderr",
     "output_type": "stream",
     "text": [
      "100%|██████████| 105/105 [08:29<00:00,  4.85s/it]"
     ]
    },
    {
     "name": "stdout",
     "output_type": "stream",
     "text": [
      "                                         url  개수충족\n",
      "0  https://www.yogiyo.co.kr/mobile/#/363224/     0\n",
      "야식 : 0시간 534분\n",
      "2021-08-03 03:22:06.580520\n",
      "2021-08-03 03:31:01.033760\n",
      "전체소요시간 : 0시간 534분\n"
     ]
    },
    {
     "name": "stderr",
     "output_type": "stream",
     "text": [
      "\n"
     ]
    }
   ],
   "source": [
    "    #categories = [\"1인분주문\",\"프랜차이즈\", \"치킨\", \"피자양식\", \"중식\", \"한식\", \"일식돈까스\", \"족발보쌈\", \"야식\", \"분식\", \"카페디저트\", \"편의점\"]\n",
    "    categories = [\"야식\"]\n",
    "    final_start = datetime.datetime.now()\n",
    "\n",
    "    for category in categories:\n",
    "        start = datetime.datetime.now()\n",
    "        yogiyo_crawling('인천광역시 중구 북성동1가 98-6 월미도선착장 화장실', category)\n",
    "        end = datetime.datetime.now()\n",
    "        t = end - start\n",
    "        hours, remainder = divmod(t.seconds, 3600)\n",
    "        print(\"{} : {}시간 {}분\".format(category, hours, remainder))\n",
    "\n",
    "    final_end = datetime.datetime.now()\n",
    "\n",
    "    t = final_end - final_start\n",
    "    hours, remainder = divmod(t.seconds, 3600)\n",
    "    print(final_start)\n",
    "    print(final_end)\n",
    "    print(\"전체소요시간 : {}시간 {}분\".format(hours, remainder))"
   ]
  },
  {
   "cell_type": "code",
   "execution_count": null,
   "metadata": {},
   "outputs": [],
   "source": []
  }
 ],
 "metadata": {
  "kernelspec": {
   "display_name": "Find-A",
   "language": "python",
   "name": "finda"
  },
  "language_info": {
   "codemirror_mode": {
    "name": "ipython",
    "version": 3
   },
   "file_extension": ".py",
   "mimetype": "text/x-python",
   "name": "python",
   "nbconvert_exporter": "python",
   "pygments_lexer": "ipython3",
   "version": "3.9.1"
  }
 },
 "nbformat": 4,
 "nbformat_minor": 4
}
