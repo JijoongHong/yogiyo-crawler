{
 "cells": [
  {
   "cell_type": "code",
   "execution_count": 4,
   "metadata": {},
   "outputs": [],
   "source": [
    "from bs4 import BeautifulSoup\n",
    "from selenium import webdriver\n",
    "from selenium.webdriver.common.keys import Keys\n",
    "from selenium.webdriver import ActionChains\n",
    "import pandas as pd\n",
    "import time\n",
    "import datetime\n",
    "from urllib.request import urlopen\n"
   ]
  },
  {
   "cell_type": "code",
   "execution_count": 6,
   "metadata": {},
   "outputs": [
    {
     "name": "stdout",
     "output_type": "stream",
     "text": [
      "[]\n"
     ]
    }
   ],
   "source": [
    "url = 'https://www.yogiyo.co.kr/mobile/#/336805/'\n",
    "driver = webdriver.Chrome('/Users/jijoonghong/Downloads/chromedriver')\n",
    "driver.get(url)\n",
    "review = driver.find_element_by_xpath('//*[@id=\"content\"]/div[2]/div[1]/ul/li[2]/a')\n",
    "driver.execute_script(\"arguments[0].click();\", review)\n",
    "html = driver.page_source\n"
   ]
  },
  {
   "cell_type": "code",
   "execution_count": 7,
   "metadata": {},
   "outputs": [
    {
     "name": "stdout",
     "output_type": "stream",
     "text": [
      "[<p class=\"ng-binding\" ng-bind-html=\"review.comment|strip_html\" ng-show=\"review.comment\">배가찢어질거 같아요 라주 담백하고 양이 너무 많아서 둘이먹고 먹은만큼 남았어요. 3-4인용기예요 여기 메뉴 다 먹어보고 싶네요</p>, <p class=\"ng-binding\" ng-bind-html=\"review.comment|strip_html\" ng-show=\"review.comment\">너어무 맛있어요 항상 잘먹고있습니당</p>, <p class=\"ng-binding\" ng-bind-html=\"review.comment|strip_html\" ng-show=\"review.comment\">언제나 믿고 먹는 장군집이예요^^ 맛있게 잘 먹었습니다👍</p>, <p class=\"ng-binding\" ng-bind-html=\"review.comment|strip_html\" ng-show=\"review.comment\">묵은지가 정말 맛있어요~ 고기도 부드럽고 양이 엄청 푸짐해요~</p>, <p class=\"ng-binding\" ng-bind-html=\"review.comment|strip_html\" ng-show=\"review.comment\">넘 맛있어서 하루에 두 번이나 주문했네요 ㅎㅎ</p>, <p class=\"ng-binding\" ng-bind-html=\"review.comment|strip_html\" ng-show=\"review.comment\">맛있고 양많고 배달도 빨랐어요 !</p>, <p class=\"ng-binding\" ng-bind-html=\"review.comment|strip_html\" ng-show=\"review.comment\">너무맛있게먹었습니다 양도 많아서 결국 다못먹고 여러번에 나눠먹음 ㅋㅋ</p>, <p class=\"ng-binding\" ng-bind-html=\"review.comment|strip_html\" ng-show=\"review.comment\">넘 맛있게 잘 먹었어요.\n",
      "담엔 묵은지찜도 꼭 주문해 먹고 싶네요~</p>, <p class=\"ng-binding\" ng-bind-html=\"review.comment|strip_html\" ng-show=\"review.comment\">냄새에 예민한편인데 퇴근하고 힘들어서 리뷰보고 주문했는데 너무 맛있었습니다!</p>, <p class=\"ng-binding\" ng-bind-html=\"review.comment|strip_html\" ng-show=\"review.comment\">너무 맵지도 않고 딱 맛있어요ㅎㅎ</p>]\n"
     ]
    }
   ],
   "source": [
    "soup = BeautifulSoup(html, 'html.parser')\n",
    "comments = soup.find_all('p', attrs={'ng-show': 'review.comment'})\n",
    "print(comments)"
   ]
  },
  {
   "cell_type": "code",
   "execution_count": 8,
   "metadata": {},
   "outputs": [
    {
     "name": "stdout",
     "output_type": "stream",
     "text": [
      "배가찢어질거 같아요 라주 담백하고 양이 너무 많아서 둘이먹고 먹은만큼 남았어요. 3-4인용기예요 여기 메뉴 다 먹어보고 싶네요\n",
      "너어무 맛있어요 항상 잘먹고있습니당\n",
      "언제나 믿고 먹는 장군집이예요^^ 맛있게 잘 먹었습니다👍\n",
      "묵은지가 정말 맛있어요~ 고기도 부드럽고 양이 엄청 푸짐해요~\n",
      "넘 맛있어서 하루에 두 번이나 주문했네요 ㅎㅎ\n",
      "맛있고 양많고 배달도 빨랐어요 !\n",
      "너무맛있게먹었습니다 양도 많아서 결국 다못먹고 여러번에 나눠먹음 ㅋㅋ\n",
      "넘 맛있게 잘 먹었어요. 담엔 묵은지찜도 꼭 주문해 먹고 싶네요~\n",
      "냄새에 예민한편인데 퇴근하고 힘들어서 리뷰보고 주문했는데 너무 맛있었습니다!\n",
      "너무 맵지도 않고 딱 맛있어요ㅎㅎ\n"
     ]
    }
   ],
   "source": [
    "for comment in comments:\n",
    "    comment = comment.get_text().replace(\"\\n\", \" \").replace(\"  \", \" \")\n",
    "    print(comment)\n",
    "    \n"
   ]
  },
  {
   "cell_type": "code",
   "execution_count": 17,
   "metadata": {},
   "outputs": [
    {
     "name": "stdout",
     "output_type": "stream",
     "text": [
      "<class 'bs4.element.Tag'>\n",
      "<class 'bs4.BeautifulSoup'>\n"
     ]
    }
   ],
   "source": [
    "reviews = soup.find_all(class_='list-group-item star-point ng-scope')\n",
    "print(type(reviews[0]))\n",
    "print(type(soup))"
   ]
  },
  {
   "cell_type": "code",
   "execution_count": 20,
   "metadata": {},
   "outputs": [
    {
     "name": "stdout",
     "output_type": "stream",
     "text": [
      "배가찢어질거 같아요 라주 담백하고 양이 너무 많아서 둘이먹고 먹은만큼 남았어요. 3-4인용기예요 여기 메뉴 다 먹어보고 싶네요\n",
      "너어무 맛있어요 항상 잘먹고있습니당\n",
      "언제나 믿고 먹는 장군집이예요^^ 맛있게 잘 먹었습니다👍\n",
      "묵은지가 정말 맛있어요~ 고기도 부드럽고 양이 엄청 푸짐해요~\n",
      "넘 맛있어서 하루에 두 번이나 주문했네요 ㅎㅎ\n",
      "맛있고 양많고 배달도 빨랐어요 !\n",
      "너무맛있게먹었습니다 양도 많아서 결국 다못먹고 여러번에 나눠먹음 ㅋㅋ\n",
      "넘 맛있게 잘 먹었어요. 담엔 묵은지찜도 꼭 주문해 먹고 싶네요~\n",
      "냄새에 예민한편인데 퇴근하고 힘들어서 리뷰보고 주문했는데 너무 맛있었습니다!\n",
      "너무 맵지도 않고 딱 맛있어요ㅎㅎ\n"
     ]
    }
   ],
   "source": [
    "for review in reviews:\n",
    "    comment = review.find('p', attrs={'ng-show': 'review.comment'})\n",
    "    comment = comment.get_text().replace(\"\\n\", \" \").replace(\"  \", \" \")\n",
    "    print(comment)\n"
   ]
  },
  {
   "cell_type": "code",
   "execution_count": null,
   "metadata": {},
   "outputs": [],
   "source": []
  }
 ],
 "metadata": {
  "kernelspec": {
   "display_name": "Find-A",
   "language": "python",
   "name": "finda"
  },
  "language_info": {
   "codemirror_mode": {
    "name": "ipython",
    "version": 3
   },
   "file_extension": ".py",
   "mimetype": "text/x-python",
   "name": "python",
   "nbconvert_exporter": "python",
   "pygments_lexer": "ipython3",
   "version": "3.9.1"
  }
 },
 "nbformat": 4,
 "nbformat_minor": 4
}
